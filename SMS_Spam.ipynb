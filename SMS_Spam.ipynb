{
  "nbformat": 4,
  "nbformat_minor": 0,
  "metadata": {
    "colab": {
      "name": "Salinan dari SMS_Spam.ipynb",
      "provenance": [],
      "collapsed_sections": [],
      "toc_visible": true
    },
    "kernelspec": {
      "name": "python3",
      "display_name": "Python 3"
    },
    "accelerator": "GPU"
  },
  "cells": [
    {
      "cell_type": "markdown",
      "metadata": {
        "id": "Gs6fUHnGcNAh",
        "colab_type": "text"
      },
      "source": [
        ""
      ]
    },
    {
      "cell_type": "code",
      "metadata": {
        "id": "7ZVB2RerdXz8",
        "colab_type": "code",
        "colab": {}
      },
      "source": [
        "from google.colab import drive\n",
        "drive.mount('/content/drive')"
      ],
      "execution_count": 0,
      "outputs": []
    },
    {
      "cell_type": "code",
      "metadata": {
        "id": "BnDn9EYdraVr",
        "colab_type": "code",
        "outputId": "13de5664-6989-4fc2-d480-71778d0fe721",
        "colab": {
          "base_uri": "https://localhost:8080/",
          "height": 68
        }
      },
      "source": [
        "import csv\n",
        "import tensorflow as tf\n",
        "import numpy as np\n",
        "from tensorflow.keras.preprocessing.text import Tokenizer\n",
        "from tensorflow.keras.preprocessing.sequence import pad_sequences\n",
        "import re,string\n",
        "import nltk\n",
        "import csv\n",
        "import numpy as np\n",
        "from bs4 import BeautifulSoup\n",
        "from nltk.tokenize import word_tokenize\n",
        "import nltk\n",
        "import matplotlib.pyplot as plt\n",
        "\n",
        "nltk.download('punkt')"
      ],
      "execution_count": 7,
      "outputs": [
        {
          "output_type": "stream",
          "text": [
            "[nltk_data] Downloading package punkt to /root/nltk_data...\n",
            "[nltk_data]   Unzipping tokenizers/punkt.zip.\n"
          ],
          "name": "stdout"
        },
        {
          "output_type": "execute_result",
          "data": {
            "text/plain": [
              "True"
            ]
          },
          "metadata": {
            "tags": []
          },
          "execution_count": 7
        }
      ]
    },
    {
      "cell_type": "code",
      "metadata": {
        "id": "ENd-xFiQcIjo",
        "colab_type": "code",
        "outputId": "c40cbd34-5253-4c44-90e6-e64708313afb",
        "colab": {
          "base_uri": "https://localhost:8080/",
          "height": 170
        }
      },
      "source": [
        "%tensorflow_version 2.x\n",
        "\n",
        "import tensorflow as tf\n",
        "print(tf.__version__)\n",
        "print(tf.test.gpu_device_name())\n",
        "print(\"Num GPUs Available: \", len(tf.config.experimental.list_physical_devices('GPU')))\n",
        "\n",
        "%tensorflow_version 2.x\n",
        "import tensorflow as tf\n",
        "import timeit\n",
        "\n",
        "device_name = tf.test.gpu_device_name()\n",
        "if device_name != '/device:GPU:0':\n",
        "  print(\n",
        "      '\\n\\nThis error most likely means that this notebook is not '\n",
        "      'configured to use a GPU.  Change this in Notebook Settings via the '\n",
        "      'command palette (cmd/ctrl-shift-P) or the Edit menu.\\n\\n')\n",
        "  raise SystemError('GPU device not found')\n",
        "\n",
        "def cpu():\n",
        "  with tf.device('/cpu:0'):\n",
        "    random_image_cpu = tf.random.normal((100, 100, 100, 3))\n",
        "    net_cpu = tf.keras.layers.Conv2D(32, 7)(random_image_cpu)\n",
        "    return tf.math.reduce_sum(net_cpu)\n",
        "\n",
        "def gpu():\n",
        "  with tf.device('/device:GPU:0'):\n",
        "    random_image_gpu = tf.random.normal((100, 100, 100, 3))\n",
        "    net_gpu = tf.keras.layers.Conv2D(32, 7)(random_image_gpu)\n",
        "    return tf.math.reduce_sum(net_gpu)\n",
        "  \n",
        "# We run each op once to warm up; see: https://stackoverflow.com/a/45067900\n",
        "cpu()\n",
        "gpu()\n",
        "\n",
        "# Run the op several times.\n",
        "print('Time (s) to convolve 32x7x7x3 filter over random 100x100x100x3 images '\n",
        "      '(batch x height x width x channel). Sum of ten runs.')\n",
        "print('CPU (s):')\n",
        "cpu_time = timeit.timeit('cpu()', number=10, setup=\"from __main__ import cpu\")\n",
        "print(cpu_time)\n",
        "print('GPU (s):')\n",
        "gpu_time = timeit.timeit('gpu()', number=10, setup=\"from __main__ import gpu\")\n",
        "print(gpu_time)\n",
        "print('GPU speedup over CPU: {}x'.format(int(cpu_time/gpu_time)))"
      ],
      "execution_count": 1,
      "outputs": [
        {
          "output_type": "stream",
          "text": [
            "2.2.0-rc1\n",
            "/device:GPU:0\n",
            "Num GPUs Available:  1\n",
            "Time (s) to convolve 32x7x7x3 filter over random 100x100x100x3 images (batch x height x width x channel). Sum of ten runs.\n",
            "CPU (s):\n",
            "2.561348525999989\n",
            "GPU (s):\n",
            "0.052401169999996\n",
            "GPU speedup over CPU: 48x\n"
          ],
          "name": "stdout"
        }
      ]
    },
    {
      "cell_type": "code",
      "metadata": {
        "id": "nfgXW7iKesb7",
        "colab_type": "code",
        "outputId": "f6a996e9-2e2b-4cb3-dcc9-bbc639241cf4",
        "colab": {
          "base_uri": "https://localhost:8080/",
          "height": 1000
        }
      },
      "source": [
        "#Download Dataset\n",
        "!wget --no-check-certificate 'https://drive.google.com/uc?export=download&id=1sNLYkJvQ1S7I4VdymhhCHlp5VKqIfsvw' -O data.csv\n",
        "\n",
        "#Download Slang-word Data\n",
        "!wget --no-check-certificate 'https://drive.google.com/uc?id=1jSalMueFeq7VdegeBm8g1HUHkOJgPuif&export=download' -O kbba_lama.txt\n",
        "\n",
        "#Download Stopword Data Indonesia\n",
        "!wget --no-check-certificate 'https://drive.google.com/uc?id=119aA6cVGyhPCu5eZGkij2YNZeqqPsUud&export=download' -O stopword.txt\n",
        "\n",
        "#Download rootword Indonesia\n",
        "!wget --no-check-certificate 'https://drive.google.com/uc?id=1l-O1oPUnpYCxRBUV2FWzi-O5Nok45vX8&export=download' -O rootword.txt\n"
      ],
      "execution_count": 2,
      "outputs": [
        {
          "output_type": "stream",
          "text": [
            "--2020-03-29 15:01:29--  https://drive.google.com/uc?export=download&id=1sNLYkJvQ1S7I4VdymhhCHlp5VKqIfsvw\n",
            "Resolving drive.google.com (drive.google.com)... 108.177.127.100, 108.177.127.101, 108.177.127.113, ...\n",
            "Connecting to drive.google.com (drive.google.com)|108.177.127.100|:443... connected.\n",
            "HTTP request sent, awaiting response... 302 Moved Temporarily\n",
            "Location: https://doc-04-1o-docs.googleusercontent.com/docs/securesc/ha0ro937gcuc7l7deffksulhg5h7mbp1/m6j9gjkgrgebkm2ccl18c1t49akiohmo/1585494075000/02672508490939035630/*/1sNLYkJvQ1S7I4VdymhhCHlp5VKqIfsvw?e=download [following]\n",
            "Warning: wildcards not supported in HTTP.\n",
            "--2020-03-29 15:01:30--  https://doc-04-1o-docs.googleusercontent.com/docs/securesc/ha0ro937gcuc7l7deffksulhg5h7mbp1/m6j9gjkgrgebkm2ccl18c1t49akiohmo/1585494075000/02672508490939035630/*/1sNLYkJvQ1S7I4VdymhhCHlp5VKqIfsvw?e=download\n",
            "Resolving doc-04-1o-docs.googleusercontent.com (doc-04-1o-docs.googleusercontent.com)... 108.177.126.132, 2a00:1450:4013:c01::84\n",
            "Connecting to doc-04-1o-docs.googleusercontent.com (doc-04-1o-docs.googleusercontent.com)|108.177.126.132|:443... connected.\n",
            "HTTP request sent, awaiting response... 200 OK\n",
            "Length: 135042 (132K) [text/csv]\n",
            "Saving to: ‘data.csv’\n",
            "\n",
            "\rdata.csv              0%[                    ]       0  --.-KB/s               \rdata.csv            100%[===================>] 131.88K  --.-KB/s    in 0.001s  \n",
            "\n",
            "2020-03-29 15:01:30 (183 MB/s) - ‘data.csv’ saved [135042/135042]\n",
            "\n",
            "--2020-03-29 15:01:33--  https://drive.google.com/uc?id=1jSalMueFeq7VdegeBm8g1HUHkOJgPuif&export=download\n",
            "Resolving drive.google.com (drive.google.com)... 108.177.127.100, 108.177.127.102, 108.177.127.139, ...\n",
            "Connecting to drive.google.com (drive.google.com)|108.177.127.100|:443... connected.\n",
            "HTTP request sent, awaiting response... 302 Moved Temporarily\n",
            "Location: https://doc-0s-1o-docs.googleusercontent.com/docs/securesc/ha0ro937gcuc7l7deffksulhg5h7mbp1/ga2j9kolb8b7r11kr6pekth39lljbdhi/1585494075000/02672508490939035630/*/1jSalMueFeq7VdegeBm8g1HUHkOJgPuif?e=download [following]\n",
            "Warning: wildcards not supported in HTTP.\n",
            "--2020-03-29 15:01:33--  https://doc-0s-1o-docs.googleusercontent.com/docs/securesc/ha0ro937gcuc7l7deffksulhg5h7mbp1/ga2j9kolb8b7r11kr6pekth39lljbdhi/1585494075000/02672508490939035630/*/1jSalMueFeq7VdegeBm8g1HUHkOJgPuif?e=download\n",
            "Resolving doc-0s-1o-docs.googleusercontent.com (doc-0s-1o-docs.googleusercontent.com)... 108.177.126.132, 2a00:1450:4013:c01::84\n",
            "Connecting to doc-0s-1o-docs.googleusercontent.com (doc-0s-1o-docs.googleusercontent.com)|108.177.126.132|:443... connected.\n",
            "HTTP request sent, awaiting response... 200 OK\n",
            "Length: 22325 (22K) [text/plain]\n",
            "Saving to: ‘kbba_lama.txt’\n",
            "\n",
            "kbba_lama.txt       100%[===================>]  21.80K  --.-KB/s    in 0s      \n",
            "\n",
            "2020-03-29 15:01:34 (116 MB/s) - ‘kbba_lama.txt’ saved [22325/22325]\n",
            "\n",
            "--2020-03-29 15:01:36--  https://drive.google.com/uc?id=119aA6cVGyhPCu5eZGkij2YNZeqqPsUud&export=download\n",
            "Resolving drive.google.com (drive.google.com)... 108.177.127.113, 108.177.127.100, 108.177.127.102, ...\n",
            "Connecting to drive.google.com (drive.google.com)|108.177.127.113|:443... connected.\n",
            "HTTP request sent, awaiting response... 302 Moved Temporarily\n",
            "Location: https://doc-00-1o-docs.googleusercontent.com/docs/securesc/ha0ro937gcuc7l7deffksulhg5h7mbp1/afpt2284i4se8j3i97vg7tm7q4evpucj/1585494075000/02672508490939035630/*/119aA6cVGyhPCu5eZGkij2YNZeqqPsUud?e=download [following]\n",
            "Warning: wildcards not supported in HTTP.\n",
            "--2020-03-29 15:01:36--  https://doc-00-1o-docs.googleusercontent.com/docs/securesc/ha0ro937gcuc7l7deffksulhg5h7mbp1/afpt2284i4se8j3i97vg7tm7q4evpucj/1585494075000/02672508490939035630/*/119aA6cVGyhPCu5eZGkij2YNZeqqPsUud?e=download\n",
            "Resolving doc-00-1o-docs.googleusercontent.com (doc-00-1o-docs.googleusercontent.com)... 108.177.126.132, 2a00:1450:4013:c01::84\n",
            "Connecting to doc-00-1o-docs.googleusercontent.com (doc-00-1o-docs.googleusercontent.com)|108.177.126.132|:443... connected.\n",
            "HTTP request sent, awaiting response... 200 OK\n",
            "Length: 3358 (3.3K) [text/plain]\n",
            "Saving to: ‘stopword.txt’\n",
            "\n",
            "stopword.txt        100%[===================>]   3.28K  --.-KB/s    in 0s      \n",
            "\n",
            "2020-03-29 15:01:37 (58.2 MB/s) - ‘stopword.txt’ saved [3358/3358]\n",
            "\n",
            "--2020-03-29 15:01:39--  https://drive.google.com/uc?id=1l-O1oPUnpYCxRBUV2FWzi-O5Nok45vX8&export=download\n",
            "Resolving drive.google.com (drive.google.com)... 108.177.127.113, 108.177.127.100, 108.177.127.102, ...\n",
            "Connecting to drive.google.com (drive.google.com)|108.177.127.113|:443... connected.\n",
            "HTTP request sent, awaiting response... 302 Moved Temporarily\n",
            "Location: https://doc-0k-1o-docs.googleusercontent.com/docs/securesc/ha0ro937gcuc7l7deffksulhg5h7mbp1/nmdenl7kv6ot1uo54v5187u8ptn1vu2b/1585494075000/02672508490939035630/*/1l-O1oPUnpYCxRBUV2FWzi-O5Nok45vX8?e=download [following]\n",
            "Warning: wildcards not supported in HTTP.\n",
            "--2020-03-29 15:01:40--  https://doc-0k-1o-docs.googleusercontent.com/docs/securesc/ha0ro937gcuc7l7deffksulhg5h7mbp1/nmdenl7kv6ot1uo54v5187u8ptn1vu2b/1585494075000/02672508490939035630/*/1l-O1oPUnpYCxRBUV2FWzi-O5Nok45vX8?e=download\n",
            "Resolving doc-0k-1o-docs.googleusercontent.com (doc-0k-1o-docs.googleusercontent.com)... 108.177.126.132, 2a00:1450:4013:c01::84\n",
            "Connecting to doc-0k-1o-docs.googleusercontent.com (doc-0k-1o-docs.googleusercontent.com)|108.177.126.132|:443... connected.\n",
            "HTTP request sent, awaiting response... 200 OK\n",
            "Length: 269972 (264K) [text/plain]\n",
            "Saving to: ‘rootword.txt’\n",
            "\n",
            "rootword.txt        100%[===================>] 263.64K  --.-KB/s    in 0.002s  \n",
            "\n",
            "2020-03-29 15:01:40 (170 MB/s) - ‘rootword.txt’ saved [269972/269972]\n",
            "\n"
          ],
          "name": "stdout"
        }
      ]
    },
    {
      "cell_type": "code",
      "metadata": {
        "id": "_606VA_nfDWJ",
        "colab_type": "code",
        "colab": {}
      },
      "source": [
        "!ls"
      ],
      "execution_count": 0,
      "outputs": []
    },
    {
      "cell_type": "markdown",
      "metadata": {
        "id": "xrzidN-optZE",
        "colab_type": "text"
      },
      "source": [
        "#Read Data"
      ]
    },
    {
      "cell_type": "code",
      "metadata": {
        "id": "KXmWWWIafkdl",
        "colab_type": "code",
        "outputId": "6d2500e4-1be9-48be-e1e2-c2a4c4f7156a",
        "colab": {
          "base_uri": "https://localhost:8080/",
          "height": 204
        }
      },
      "source": [
        "import pandas as pd\n",
        "\n",
        "data = pd.read_csv(\"data.csv\", encoding='utf-8')\n",
        "data.head()"
      ],
      "execution_count": 8,
      "outputs": [
        {
          "output_type": "execute_result",
          "data": {
            "text/html": [
              "<div>\n",
              "<style scoped>\n",
              "    .dataframe tbody tr th:only-of-type {\n",
              "        vertical-align: middle;\n",
              "    }\n",
              "\n",
              "    .dataframe tbody tr th {\n",
              "        vertical-align: top;\n",
              "    }\n",
              "\n",
              "    .dataframe thead th {\n",
              "        text-align: right;\n",
              "    }\n",
              "</style>\n",
              "<table border=\"1\" class=\"dataframe\">\n",
              "  <thead>\n",
              "    <tr style=\"text-align: right;\">\n",
              "      <th></th>\n",
              "      <th>Teks</th>\n",
              "      <th>label</th>\n",
              "    </tr>\n",
              "  </thead>\n",
              "  <tbody>\n",
              "    <tr>\n",
              "      <th>0</th>\n",
              "      <td>[PROMO] Beli paket Flash mulai 1GB di MY TELKO...</td>\n",
              "      <td>promo</td>\n",
              "    </tr>\n",
              "    <tr>\n",
              "      <th>1</th>\n",
              "      <td>2.5 GB/30 hari hanya Rp 35 Ribu Spesial buat A...</td>\n",
              "      <td>promo</td>\n",
              "    </tr>\n",
              "    <tr>\n",
              "      <th>2</th>\n",
              "      <td>2016-07-08 11:47:11.Plg Yth, sisa kuota Flash ...</td>\n",
              "      <td>promo</td>\n",
              "    </tr>\n",
              "    <tr>\n",
              "      <th>3</th>\n",
              "      <td>2016-08-07 11:29:47.Plg Yth, sisa kuota Flash ...</td>\n",
              "      <td>promo</td>\n",
              "    </tr>\n",
              "    <tr>\n",
              "      <th>4</th>\n",
              "      <td>4.5GB/30 hari hanya Rp 55 Ribu Spesial buat an...</td>\n",
              "      <td>promo</td>\n",
              "    </tr>\n",
              "  </tbody>\n",
              "</table>\n",
              "</div>"
            ],
            "text/plain": [
              "                                                Teks  label\n",
              "0  [PROMO] Beli paket Flash mulai 1GB di MY TELKO...  promo\n",
              "1  2.5 GB/30 hari hanya Rp 35 Ribu Spesial buat A...  promo\n",
              "2  2016-07-08 11:47:11.Plg Yth, sisa kuota Flash ...  promo\n",
              "3  2016-08-07 11:29:47.Plg Yth, sisa kuota Flash ...  promo\n",
              "4  4.5GB/30 hari hanya Rp 55 Ribu Spesial buat an...  promo"
            ]
          },
          "metadata": {
            "tags": []
          },
          "execution_count": 8
        }
      ]
    },
    {
      "cell_type": "code",
      "metadata": {
        "id": "EFHVYia5kQ-T",
        "colab_type": "code",
        "outputId": "30cd36ba-168e-4aec-f7e3-e7ade039c6dc",
        "colab": {
          "base_uri": "https://localhost:8080/",
          "height": 282
        }
      },
      "source": [
        "data['label'].value_counts().plot(kind='barh')"
      ],
      "execution_count": 9,
      "outputs": [
        {
          "output_type": "execute_result",
          "data": {
            "text/plain": [
              "<matplotlib.axes._subplots.AxesSubplot at 0x7fa8ad616f98>"
            ]
          },
          "metadata": {
            "tags": []
          },
          "execution_count": 9
        },
        {
          "output_type": "display_data",
          "data": {
            "image/png": "[encoded data removed]",
            "text/plain": [
              "<Figure size 432x288 with 1 Axes>"
            ]
          },
          "metadata": {
            "tags": []
          }
        }
      ]
    },
    {
      "cell_type": "markdown",
      "metadata": {
        "id": "dlQR3sAhpzw1",
        "colab_type": "text"
      },
      "source": [
        "#Preproses Cleaning Data"
      ]
    },
    {
      "cell_type": "code",
      "metadata": {
        "id": "SLMYgyftku_W",
        "colab_type": "code",
        "colab": {}
      },
      "source": [
        "\n",
        "kbba_lama = \"kbba_lama.txt\" #Slang word or acronym\n",
        "rootword = \"rootword.txt\" #rootword\n",
        "stopword = \"stopword.txt\" #stopword\n",
        "\n",
        "def clean_tweet(tweet):   \n",
        "    \n",
        "    #Delete redundant word in data\n",
        "    def hapus_katadouble(s):\n",
        "        pattern = re.compile(r\"(.)\\1{1,}\", re.DOTALL)\n",
        "        return  pattern.sub(r\"\\1\\1\", s)\n",
        "\n",
        "    def tokenize(tweet):\n",
        "        \n",
        "        token = tweet.split(' ')\n",
        "        return token\n",
        "    #Change acronym or slang word into normal word in Indonesia\n",
        "    def kbbi(tweet):\n",
        "        global DATA_KBBI\n",
        "        \n",
        "        token = word_tokenize(tweet)\n",
        "        #return token\n",
        "        \n",
        "        DATA_KBBI = [kamus.strip('\\n').strip('\\r') for kamus in open(kbba_lama)]\n",
        "        dic={}\n",
        "        for i in DATA_KBBI: \n",
        "            (key,val)=i.split('\\t')\n",
        "            dic[str(key)]=val\n",
        "            \n",
        "        tweet = ' '.join(str(dic.get(word, word)) for word in token).split()\n",
        "        return tweet\n",
        "\n",
        "    def normalize_token(_tokens):\n",
        "        tokens = kbbi(_tokens)\n",
        "        return tokens\n",
        "        \n",
        "    def prep(sent):\n",
        "        tweet = normalize_token(sent)\n",
        "        return tweet\n",
        "\n",
        "    #Remove stopword\n",
        "    def indo_stop(tweet):\n",
        "        stop_words = [data.strip('\\n') for data in open(stopword)]\n",
        "        #stop_words = set(stopwords.words('indonesian'))\n",
        "        word_tokens = tweet\n",
        "        filtered_sentence = [w for w in word_tokens if not w in stop_words]\n",
        "        filtered_sentence = []\n",
        "\n",
        "        for w in word_tokens: \n",
        "            if w not in stop_words: \n",
        "                filtered_sentence.append(w)\n",
        "        \n",
        "        return \"\".join([\" \"+i if not i.startswith(\"'\") and i not in string.punctuation else i for i in filtered_sentence]).strip()\n",
        "\n",
        "        #print(filtered_sentence)\n",
        "  \n",
        "    #pat1 = r'@[A-Za-z0-9]+'\n",
        "    #pat2 = r'http\\S+'\n",
        "    #pat3 = r'href\\S+'\n",
        "    #combined_pat = r'|'.join((pat1, pat2, pat3 ))\n",
        "    \n",
        "\n",
        "    soup = BeautifulSoup(tweet, 'lxml')\n",
        "    souped = soup.get_text()\n",
        "    stripped = souped\n",
        "    try:\n",
        "        tweet = stripped.decode(\"utf-8-sig\").replace(u\"\\ufffd\", \"?\")\n",
        "    except:\n",
        "        tweet = stripped\n",
        "    \n",
        "    unicode_literal = re.compile(r'\\\\u[0-9a-fA-F]{4}|\\\\U[0-9a-fA-F]{8}') #Remove hex, honestly for twitter but this also work in this case\n",
        "\n",
        "    tweet = tweet.lower()\n",
        "    tweet = re.sub(r\"#(\\w+)\", ' ', tweet, flags=re.MULTILINE) #Remove Tag\n",
        "    tweet = re.sub(r\"@(\\w+)\", ' ', tweet, flags=re.MULTILINE) #Remove @\n",
        "    tweet = re.sub(r'http.+', '', tweet, flags=re.S) #Remove link\n",
        "    tweet = re.sub(r'href.+', '', tweet, flags=re.S) #Remove link but href\n",
        "    tweet = unicode_literal.sub(r'', tweet)\n",
        "    tweet = re.sub(r'\".+', '', tweet, flags=re.S) #Remove \"\n",
        "    tweet = re.sub(\"(@[A-Za-z0-9]+)|([^0-9A-Za-z \\t])|(\\w+:\\/\\/\\S+)\", \" \", tweet) #Double clean\n",
        "    tweet = re.sub(r'\\w*\\d\\w*', '',tweet).strip() #Removes number & str(angka)\n",
        "    tweet = prep(tweet)\n",
        "    tweet = indo_stop(tweet)\n",
        "    tweet = hapus_katadouble(tweet)\n",
        "    return (\"\".join(tweet))\n",
        "    #tweet = prep(tweet)"
      ],
      "execution_count": 0,
      "outputs": []
    },
    {
      "cell_type": "code",
      "metadata": {
        "id": "-G_veYdChgVI",
        "colab_type": "code",
        "outputId": "576b8b95-4b6a-4cc8-96a2-33b31c3fb7fe",
        "colab": {
          "base_uri": "https://localhost:8080/",
          "height": 51
        }
      },
      "source": [
        "#print(data[\"Teks\"])\n",
        "data_clean = []\n",
        "labels = []\n",
        "\n",
        "for i in data[\"Teks\"]:\n",
        "  data_clean.append(clean_tweet(i))\n",
        "\n",
        "for f in data[\"label\"]:\n",
        "  labels.append(f)\n",
        "\n",
        "\n",
        "print(len(data_clean[:]))\n",
        "print(len(labels[:]))"
      ],
      "execution_count": 11,
      "outputs": [
        {
          "output_type": "stream",
          "text": [
            "1143\n",
            "1143\n"
          ],
          "name": "stdout"
        }
      ]
    },
    {
      "cell_type": "markdown",
      "metadata": {
        "id": "P6w7BqP3rvYB",
        "colab_type": "text"
      },
      "source": [
        "#Hyperparameter"
      ]
    },
    {
      "cell_type": "code",
      "metadata": {
        "colab_type": "code",
        "id": "5I8Enllbr2pE",
        "colab": {}
      },
      "source": [
        "vocab_size = 1000\n",
        "embedding_dim = 64\n",
        "max_length = 50\n",
        "trunc_type = 'post'\n",
        "padding_type = 'post'\n",
        "oov_tok = '<OOV>'\n",
        "training_size = .2\n",
        "SEED = 1000\n",
        "num_epochs = 8\n",
        "\n"
      ],
      "execution_count": 0,
      "outputs": []
    },
    {
      "cell_type": "markdown",
      "metadata": {
        "id": "qX_AAOawr31D",
        "colab_type": "text"
      },
      "source": [
        "#Data Preparation"
      ]
    },
    {
      "cell_type": "markdown",
      "metadata": {
        "id": "Z6Yet_JNl_Og",
        "colab_type": "text"
      },
      "source": [
        "Split data into 2 groups, train and validation"
      ]
    },
    {
      "cell_type": "code",
      "metadata": {
        "id": "vYVDMnd9qxx0",
        "colab_type": "code",
        "outputId": "25767fde-1631-4519-ffcc-8e76313cdbbf",
        "colab": {
          "base_uri": "https://localhost:8080/",
          "height": 102
        }
      },
      "source": [
        "\n",
        "from sklearn.model_selection import train_test_split\n",
        "\n",
        "train_text, validation_text, train_labels, validation_labels = train_test_split(data_clean, labels, test_size=training_size, random_state=SEED)\n",
        "#validation_labels, test_text, validation, y_test = train_test_split(x_validation_and_test, y_validation_and_test, test_size=.5, random_state=SEED)\n",
        "\n",
        "#print(train_size)\n",
        "print(len(train_text))\n",
        "print(len(train_labels))\n",
        "print(len(validation_text))\n",
        "print(len(validation_labels))\n",
        "\"\"\"\n",
        "914\n",
        "914\n",
        "914\n",
        "229\n",
        "229\n",
        "\"\"\""
      ],
      "execution_count": 13,
      "outputs": [
        {
          "output_type": "stream",
          "text": [
            "914\n",
            "914\n",
            "229\n",
            "229\n"
          ],
          "name": "stdout"
        },
        {
          "output_type": "execute_result",
          "data": {
            "text/plain": [
              "'\\n914\\n914\\n914\\n229\\n229\\n'"
            ]
          },
          "metadata": {
            "tags": []
          },
          "execution_count": 13
        }
      ]
    },
    {
      "cell_type": "markdown",
      "metadata": {
        "id": "orYi5T5_j3uE",
        "colab_type": "text"
      },
      "source": [
        "Data Preprocessing using word_index"
      ]
    },
    {
      "cell_type": "code",
      "metadata": {
        "id": "Zd8X-BeyrI4W",
        "colab_type": "code",
        "colab": {}
      },
      "source": [
        "tokenizer = Tokenizer(num_words = vocab_size, oov_token=oov_tok)\n",
        "tokenizer.fit_on_texts(train_text)\n",
        "word_index = tokenizer.word_index"
      ],
      "execution_count": 0,
      "outputs": []
    },
    {
      "cell_type": "code",
      "metadata": {
        "id": "ROK7vmDtr_E8",
        "colab_type": "code",
        "outputId": "d0c0ad65-7b19-4d7b-ef1b-725b65afd4cb",
        "colab": {
          "base_uri": "https://localhost:8080/",
          "height": 187
        }
      },
      "source": [
        "dict(list(word_index.items())[0:10])"
      ],
      "execution_count": 15,
      "outputs": [
        {
          "output_type": "execute_result",
          "data": {
            "text/plain": [
              "{'<OOV>': 1,\n",
              " 'cek': 9,\n",
              " 'com': 6,\n",
              " 'hadiah': 7,\n",
              " 'informasi': 2,\n",
              " 'klik': 10,\n",
              " 'nomor': 3,\n",
              " 'pin': 5,\n",
              " 'sms': 8,\n",
              " 'ww': 4}"
            ]
          },
          "metadata": {
            "tags": []
          },
          "execution_count": 15
        }
      ]
    },
    {
      "cell_type": "code",
      "metadata": {
        "id": "GdRIK_BxsCum",
        "colab_type": "code",
        "outputId": "e8da0d3b-d592-4dc2-b2a7-209ec5289715",
        "colab": {
          "base_uri": "https://localhost:8080/",
          "height": 34
        }
      },
      "source": [
        "train_sequences = tokenizer.texts_to_sequences(train_text)\n",
        "print(train_sequences[10])"
      ],
      "execution_count": 16,
      "outputs": [
        {
          "output_type": "stream",
          "text": [
            "[539, 44, 215, 7, 87, 48, 540, 541, 22, 1, 736, 294, 5, 2, 10, 4, 1, 74, 1]\n"
          ],
          "name": "stdout"
        }
      ]
    },
    {
      "cell_type": "code",
      "metadata": {
        "id": "5ovcPENysJHb",
        "colab_type": "code",
        "colab": {}
      },
      "source": [
        "train_padded = pad_sequences(train_sequences, maxlen=max_length, padding=padding_type, truncating=trunc_type)\n"
      ],
      "execution_count": 0,
      "outputs": []
    },
    {
      "cell_type": "code",
      "metadata": {
        "id": "RYbkXTk2sPsl",
        "colab_type": "code",
        "outputId": "4dbb6672-4b50-43b3-cb1a-5325a0eea1d3",
        "colab": {
          "base_uri": "https://localhost:8080/",
          "height": 51
        }
      },
      "source": [
        "validation_sequences = tokenizer.texts_to_sequences(validation_text)\n",
        "validation_padded = pad_sequences(validation_sequences, maxlen=max_length, padding=padding_type, truncating=trunc_type)\n",
        "\n",
        "print(len(validation_sequences))\n",
        "print(validation_padded.shape)"
      ],
      "execution_count": 18,
      "outputs": [
        {
          "output_type": "stream",
          "text": [
            "229\n",
            "(229, 50)\n"
          ],
          "name": "stdout"
        }
      ]
    },
    {
      "cell_type": "code",
      "metadata": {
        "id": "1hRZNSfzsWOk",
        "colab_type": "code",
        "outputId": "3784c697-359f-46ac-ad6c-298b70994589",
        "colab": {
          "base_uri": "https://localhost:8080/",
          "height": 51
        }
      },
      "source": [
        "label_tokenizer = Tokenizer()\n",
        "label_tokenizer.fit_on_texts(labels)\n",
        "\n",
        "training_label_seq = np.array(label_tokenizer.texts_to_sequences(train_labels))\n",
        "validation_label_seq = np.array(label_tokenizer.texts_to_sequences(validation_labels))\n",
        "\n",
        "print(training_label_seq.shape)\n",
        "\n",
        "print(validation_label_seq.shape)"
      ],
      "execution_count": 19,
      "outputs": [
        {
          "output_type": "stream",
          "text": [
            "(914, 1)\n",
            "(229, 1)\n"
          ],
          "name": "stdout"
        }
      ]
    },
    {
      "cell_type": "code",
      "metadata": {
        "id": "Scjj_R9gtr7w",
        "colab_type": "code",
        "outputId": "e0c5a2f7-14e1-49c3-d4dc-42b092b3dad1",
        "colab": {
          "base_uri": "https://localhost:8080/",
          "height": 34
        }
      },
      "source": [
        "print(set(labels))"
      ],
      "execution_count": 0,
      "outputs": [
        {
          "output_type": "stream",
          "text": [
            "{'promo', 'penipuan', 'normal'}\n"
          ],
          "name": "stdout"
        }
      ]
    },
    {
      "cell_type": "markdown",
      "metadata": {
        "id": "z_PNon_Ksbk8",
        "colab_type": "text"
      },
      "source": [
        "#Check Original Data"
      ]
    },
    {
      "cell_type": "code",
      "metadata": {
        "id": "hCHUEjTesc_j",
        "colab_type": "code",
        "outputId": "df878a46-a2ba-4274-dccd-84a5c43c9695",
        "colab": {
          "base_uri": "https://localhost:8080/",
          "height": 88
        }
      },
      "source": [
        "reverse_word_index = dict([(value, key) for (key, value) in word_index.items()])\n",
        "\n",
        "def decode_text(text):\n",
        "    return ' '.join([reverse_word_index.get(i, '?') for i in text])\n",
        "print(decode_text(train_padded[1]))\n",
        "print('---')\n",
        "print(train_text[1])"
      ],
      "execution_count": 20,
      "outputs": [
        {
          "output_type": "stream",
          "text": [
            "<OOV> <OOV> <OOV> google <OOV> <OOV> soal besok subuh harap cek iya ? ? ? ? ? ? ? ? ? ? ? ? ? ? ? ? ? ? ? ? ? ? ? ? ? ? ? ? ? ? ? ? ? ? ? ? ? ?\n",
            "---\n",
            "formatnya berantakan odp google sheet rapikan soal besok subuh harap cek iya\n"
          ],
          "name": "stdout"
        }
      ]
    },
    {
      "cell_type": "markdown",
      "metadata": {
        "id": "SivO4NrAszpZ",
        "colab_type": "text"
      },
      "source": [
        "#Train Model"
      ]
    },
    {
      "cell_type": "code",
      "metadata": {
        "id": "nuV1fL_oszCi",
        "colab_type": "code",
        "outputId": "ff6e9182-81da-4cb0-be76-9bb30afd29e9",
        "colab": {
          "base_uri": "https://localhost:8080/",
          "height": 289
        }
      },
      "source": [
        "model = tf.keras.Sequential([\n",
        "    tf.keras.layers.Embedding(vocab_size, embedding_dim),\n",
        "    tf.keras.layers.Bidirectional(tf.keras.layers.LSTM(embedding_dim)),\n",
        "    tf.keras.layers.Dense(embedding_dim, activation='relu'),\n",
        "    #tf.keras.layers.Dropout(0.01),\n",
        "    tf.keras.layers.Dense(4, activation='softmax')\n",
        "])\n",
        "model.summary()"
      ],
      "execution_count": 131,
      "outputs": [
        {
          "output_type": "stream",
          "text": [
            "Model: \"sequential_10\"\n",
            "_________________________________________________________________\n",
            "Layer (type)                 Output Shape              Param #   \n",
            "=================================================================\n",
            "embedding_10 (Embedding)     (None, None, 64)          64000     \n",
            "_________________________________________________________________\n",
            "bidirectional_10 (Bidirectio (None, 128)               66048     \n",
            "_________________________________________________________________\n",
            "dense_20 (Dense)             (None, 64)                8256      \n",
            "_________________________________________________________________\n",
            "dense_21 (Dense)             (None, 4)                 260       \n",
            "=================================================================\n",
            "Total params: 138,564\n",
            "Trainable params: 138,564\n",
            "Non-trainable params: 0\n",
            "_________________________________________________________________\n"
          ],
          "name": "stdout"
        }
      ]
    },
    {
      "cell_type": "code",
      "metadata": {
        "id": "MrvE7Lfbs7Uq",
        "colab_type": "code",
        "colab": {}
      },
      "source": [
        "import tensorflow as tf\n",
        "\n",
        "model.compile(loss=tf.losses.SparseCategoricalCrossentropy(), #sparse_categorical_crossentropy\n",
        "              optimizer='adam', \n",
        "              metrics=['accuracy'],)"
      ],
      "execution_count": 0,
      "outputs": []
    },
    {
      "cell_type": "code",
      "metadata": {
        "id": "gYznxgcjX0ca",
        "colab_type": "code",
        "colab": {}
      },
      "source": [
        "from tensorflow.keras.callbacks import ModelCheckpoint\n",
        "modelName =\"SMS_Fraud2.hdf5\"\n",
        "checkpoint = ModelCheckpoint(modelName, monitor='val_loss', verbose=1, save_best_only=True, mode='min',)"
      ],
      "execution_count": 0,
      "outputs": []
    },
    {
      "cell_type": "code",
      "metadata": {
        "id": "-9HrvZAZs-b_",
        "colab_type": "code",
        "outputId": "cbbc6c10-1548-42bb-bc76-2e84d262de84",
        "colab": {
          "base_uri": "https://localhost:8080/",
          "height": 581
        }
      },
      "source": [
        "num_epochs = 8\n",
        "history = model.fit(train_padded, training_label_seq, epochs=num_epochs, \n",
        "                    validation_data=(validation_padded, validation_label_seq), callbacks = [checkpoint])"
      ],
      "execution_count": 134,
      "outputs": [
        {
          "output_type": "stream",
          "text": [
            "Epoch 1/8\n",
            "28/29 [===========================>..] - ETA: 0s - loss: 1.1213 - accuracy: 0.5268\n",
            "Epoch 00001: val_loss improved from inf to 0.74532, saving model to SMS_Fraud2.hdf5\n",
            "29/29 [==============================] - 1s 36ms/step - loss: 1.1132 - accuracy: 0.5284 - val_loss: 0.7453 - val_accuracy: 0.6681\n",
            "Epoch 2/8\n",
            "26/29 [=========================>....] - ETA: 0s - loss: 0.5988 - accuracy: 0.7536\n",
            "Epoch 00002: val_loss improved from 0.74532 to 0.44404, saving model to SMS_Fraud2.hdf5\n",
            "29/29 [==============================] - 0s 11ms/step - loss: 0.6014 - accuracy: 0.7560 - val_loss: 0.4440 - val_accuracy: 0.8035\n",
            "Epoch 3/8\n",
            "27/29 [==========================>...] - ETA: 0s - loss: 0.3405 - accuracy: 0.9005\n",
            "Epoch 00003: val_loss improved from 0.44404 to 0.26436, saving model to SMS_Fraud2.hdf5\n",
            "29/29 [==============================] - 0s 11ms/step - loss: 0.3286 - accuracy: 0.9037 - val_loss: 0.2644 - val_accuracy: 0.8865\n",
            "Epoch 4/8\n",
            "29/29 [==============================] - ETA: 0s - loss: 0.1818 - accuracy: 0.9475\n",
            "Epoch 00004: val_loss improved from 0.26436 to 0.20332, saving model to SMS_Fraud2.hdf5\n",
            "29/29 [==============================] - 0s 10ms/step - loss: 0.1818 - accuracy: 0.9475 - val_loss: 0.2033 - val_accuracy: 0.9345\n",
            "Epoch 5/8\n",
            "29/29 [==============================] - ETA: 0s - loss: 0.1138 - accuracy: 0.9617\n",
            "Epoch 00005: val_loss improved from 0.20332 to 0.19609, saving model to SMS_Fraud2.hdf5\n",
            "29/29 [==============================] - 0s 10ms/step - loss: 0.1138 - accuracy: 0.9617 - val_loss: 0.1961 - val_accuracy: 0.9258\n",
            "Epoch 6/8\n",
            "29/29 [==============================] - ETA: 0s - loss: 0.0751 - accuracy: 0.9792\n",
            "Epoch 00006: val_loss improved from 0.19609 to 0.17043, saving model to SMS_Fraud2.hdf5\n",
            "29/29 [==============================] - 0s 11ms/step - loss: 0.0751 - accuracy: 0.9792 - val_loss: 0.1704 - val_accuracy: 0.9389\n",
            "Epoch 7/8\n",
            "29/29 [==============================] - ETA: 0s - loss: 0.0501 - accuracy: 0.9869\n",
            "Epoch 00007: val_loss improved from 0.17043 to 0.15437, saving model to SMS_Fraud2.hdf5\n",
            "29/29 [==============================] - 0s 11ms/step - loss: 0.0501 - accuracy: 0.9869 - val_loss: 0.1544 - val_accuracy: 0.9432\n",
            "Epoch 8/8\n",
            "29/29 [==============================] - ETA: 0s - loss: 0.0365 - accuracy: 0.9923\n",
            "Epoch 00008: val_loss did not improve from 0.15437\n",
            "29/29 [==============================] - 0s 9ms/step - loss: 0.0365 - accuracy: 0.9923 - val_loss: 0.1675 - val_accuracy: 0.9520\n"
          ],
          "name": "stdout"
        }
      ]
    },
    {
      "cell_type": "markdown",
      "metadata": {
        "id": "sVmrGYNftLP-",
        "colab_type": "text"
      },
      "source": [
        "#Training Visualization"
      ]
    },
    {
      "cell_type": "code",
      "metadata": {
        "id": "Iuw00AL-tNxc",
        "colab_type": "code",
        "outputId": "c2419072-17f0-48ec-ba4b-da8bc51ae423",
        "colab": {
          "base_uri": "https://localhost:8080/",
          "height": 541
        }
      },
      "source": [
        "def plot_graphs(history, string):\n",
        "  plt.plot(history.history[string])\n",
        "  plt.plot(history.history['val_'+string])\n",
        "  plt.xlabel(\"Epochs\")\n",
        "  plt.ylabel(string)\n",
        "  plt.legend([string, 'val_'+string])\n",
        "  plt.show()\n",
        "  \n",
        "plot_graphs(history, \"accuracy\")\n",
        "plot_graphs(history, \"loss\")"
      ],
      "execution_count": 135,
      "outputs": [
        {
          "output_type": "display_data",
          "data": {
            "image/png": "[encoded data removed]",
            "text/plain": [
              "<Figure size 432x288 with 1 Axes>"
            ]
          },
          "metadata": {
            "tags": []
          }
        },
        {
          "output_type": "display_data",
          "data": {
            "image/png": "[encoded data removed]",
            "text/plain": [
              "<Figure size 432x288 with 1 Axes>"
            ]
          },
          "metadata": {
            "tags": []
          }
        }
      ]
    },
    {
      "cell_type": "code",
      "metadata": {
        "id": "DphvDuX3tP3G",
        "colab_type": "code",
        "colab": {}
      },
      "source": [
        ""
      ],
      "execution_count": 0,
      "outputs": []
    },
    {
      "cell_type": "markdown",
      "metadata": {
        "id": "sz0zzu2AtQaA",
        "colab_type": "text"
      },
      "source": [
        "#TEST"
      ]
    },
    {
      "cell_type": "code",
      "metadata": {
        "id": "OVEvhlRFe4LX",
        "colab_type": "code",
        "colab": {}
      },
      "source": [
        "txt = [\"Selamat dan sukses untuk Dies Natalis ke-55 Universitas Negeri Semarang. Bagi sedulur FMIPA, baik dosen, tenaga kependidikan, mahasisa dan alumni FMIPA UNNES mari ikuti doa serentak dalam rangka Dies Natalis ke-55 Lustrum UNNES yang akan diselenggarakan pada hari Senin, 30 Maret 2020 pukul 10.00 WIB secara daring\"]"
      ],
      "execution_count": 0,
      "outputs": []
    },
    {
      "cell_type": "code",
      "metadata": {
        "id": "IZkLel8EiSpw",
        "colab_type": "code",
        "colab": {}
      },
      "source": [
        "txt = [\"Plgn Yth, selamat no Anda Resmi men-dpat Hadiah Rp.150jt Berkat isi ulang pulsa dari MOBOINDOSAT NO PIN;25e477r U/info klik; www.hadiahmoboindosat2017.com\"]"
      ],
      "execution_count": 0,
      "outputs": []
    },
    {
      "cell_type": "code",
      "metadata": {
        "id": "CMDO2jjOcPrJ",
        "colab_type": "code",
        "colab": {}
      },
      "source": [
        "txt = [\"Mau ekstra telpon, SMS, Internetan (S&K berlaku)? Ikuti surveu singkat tentang aplikasi musik s/d  3 September. Klik: http://tsel.me/mulu\"]"
      ],
      "execution_count": 0,
      "outputs": []
    },
    {
      "cell_type": "code",
      "metadata": {
        "id": "MuoOjo82ekET",
        "colab_type": "code",
        "outputId": "dda1a568-7116-4698-a430-f7e08bb2e8ba",
        "colab": {
          "base_uri": "https://localhost:8080/",
          "height": 54
        }
      },
      "source": [
        "from tensorflow.keras.models import load_model\n",
        "\n",
        "loadModel = load_model(\"SMS_Fraud2.hdf5\")"
      ],
      "execution_count": 142,
      "outputs": [
        {
          "output_type": "stream",
          "text": [
            "WARNING:tensorflow:Error in loading the saved optimizer state. As a result, your model is starting with a freshly initialized optimizer.\n"
          ],
          "name": "stdout"
        }
      ]
    },
    {
      "cell_type": "code",
      "metadata": {
        "id": "Ba8qPAVytR-g",
        "colab_type": "code",
        "outputId": "dc5b4568-41f4-4585-dda7-1160aecb0b43",
        "colab": {
          "base_uri": "https://localhost:8080/",
          "height": 34
        }
      },
      "source": [
        "labels = ['promo', 'penipuan', 'normal',]\n",
        "seq = tokenizer.texts_to_sequences(txt)\n",
        "padded = pad_sequences(seq, maxlen=max_length)\n",
        "pred = loadModel.predict(padded)\n",
        "\n",
        "print(pred, labels[np.argmax(pred)])"
      ],
      "execution_count": 146,
      "outputs": [
        {
          "output_type": "stream",
          "text": [
            "[[4.4206943e-04 6.4826161e-01 3.1389514e-01 3.7401184e-02]] penipuan\n"
          ],
          "name": "stdout"
        }
      ]
    }
  ]
}